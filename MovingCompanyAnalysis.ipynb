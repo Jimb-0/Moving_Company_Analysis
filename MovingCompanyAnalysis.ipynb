{
 "cells": [
  {
   "cell_type": "markdown",
   "metadata": {},
   "source": [
    "# Data analysis of a moving company's customers"
   ]
  },
  {
   "cell_type": "code",
   "execution_count": 9,
   "metadata": {},
   "outputs": [],
   "source": [
    "import pandas as pd\n",
    "import matplotlib.pyplot as plt\n",
    "import numpy as np\n",
    "import seaborn as sns\n",
    "from scipy import stats "
   ]
  },
  {
   "cell_type": "code",
   "execution_count": 79,
   "metadata": {},
   "outputs": [
    {
     "data": {
      "text/plain": [
       "(347, 15)"
      ]
     },
     "execution_count": 79,
     "metadata": {},
     "output_type": "execute_result"
    }
   ],
   "source": [
    "df = pd.read_csv('2018copy.csv')\n",
    "df.shape"
   ]
  },
  {
   "cell_type": "code",
   "execution_count": 71,
   "metadata": {},
   "outputs": [],
   "source": [
    "gender= df['GENDER']\n",
    "df['DEPOSIT'].replace(np.nan,0,inplace = True)\n",
    "df['DURATION'].replace(np.nan,0,inplace = True)"
   ]
  },
  {
   "cell_type": "markdown",
   "metadata": {},
   "source": [
    "### Show correlation of all the numeric values "
   ]
  },
  {
   "cell_type": "code",
   "execution_count": 14,
   "metadata": {},
   "outputs": [
    {
     "data": {
      "text/plain": [
       "ZIPCODE      -0.049716\n",
       "FLIGHT        0.124083\n",
       "TRUCK SIZE    0.270394\n",
       "WORKERS       0.435302\n",
       "DURATION      0.870096\n",
       "DEPOSIT       1.000000\n",
       "Name: DEPOSIT, dtype: float64"
      ]
     },
     "execution_count": 14,
     "metadata": {},
     "output_type": "execute_result"
    }
   ],
   "source": [
    "df.corr()['DEPOSIT'].sort_values()"
   ]
  },
  {
   "cell_type": "markdown",
   "metadata": {},
   "source": [
    "### Vizualize the correlation between the strongest feature and the deposit column "
   ]
  },
  {
   "cell_type": "code",
   "execution_count": 7,
   "metadata": {},
   "outputs": [
    {
     "name": "stdout",
     "output_type": "stream",
     "text": [
      "           DEPOSIT  DURATION\n",
      "DEPOSIT   1.000000  0.870096\n",
      "DURATION  0.870096  1.000000\n"
     ]
    },
    {
     "data": {
      "text/plain": [
       "(0, 1571.3821898137405)"
      ]
     },
     "execution_count": 7,
     "metadata": {},
     "output_type": "execute_result"
    },
    {
     "data": {
      "image/png": "[encoded data removed]",
      "text/plain": [
       "<Figure size 432x288 with 1 Axes>"
      ]
     },
     "metadata": {
      "needs_background": "light"
     },
     "output_type": "display_data"
    }
   ],
   "source": [
    "print(df[['DEPOSIT','DURATION']].corr())\n",
    "sns.regplot(x='DURATION',y='DEPOSIT',data=df)\n",
    "plt.ylim(0,)"
   ]
  },
  {
   "cell_type": "code",
   "execution_count": 20,
   "metadata": {},
   "outputs": [
    {
     "name": "stdout",
     "output_type": "stream",
     "text": [
      "The Pearson Correlation Coefficient is 0.89835447578445  with a P-value of P =  2.3608255053554948e-150\n"
     ]
    }
   ],
   "source": [
    "pearson_coef, p_value = stats.pearsonr(df['DURATION'],df['DEPOSIT'])\n",
    "print('The Pearson Correlation Coefficient is',pearson_coef,' with a P-value of P = ',p_value)"
   ]
  },
  {
   "cell_type": "markdown",
   "metadata": {},
   "source": [
    "### How much each vendor contributed to total revenue"
   ]
  },
  {
   "cell_type": "code",
   "execution_count": 80,
   "metadata": {},
   "outputs": [
    {
     "data": {
      "text/html": [
       "<div>\n",
       "<style scoped>\n",
       "    .dataframe tbody tr th:only-of-type {\n",
       "        vertical-align: middle;\n",
       "    }\n",
       "\n",
       "    .dataframe tbody tr th {\n",
       "        vertical-align: top;\n",
       "    }\n",
       "\n",
       "    .dataframe thead th {\n",
       "        text-align: right;\n",
       "    }\n",
       "</style>\n",
       "<table border=\"1\" class=\"dataframe\">\n",
       "  <thead>\n",
       "    <tr style=\"text-align: right;\">\n",
       "      <th></th>\n",
       "      <th>DEPOSIT</th>\n",
       "    </tr>\n",
       "    <tr>\n",
       "      <th>VENDOR</th>\n",
       "      <th></th>\n",
       "    </tr>\n",
       "  </thead>\n",
       "  <tbody>\n",
       "    <tr>\n",
       "      <th>MH</th>\n",
       "      <td>28655.55</td>\n",
       "    </tr>\n",
       "    <tr>\n",
       "      <th>MS</th>\n",
       "      <td>28463.39</td>\n",
       "    </tr>\n",
       "    <tr>\n",
       "      <th>NM</th>\n",
       "      <td>8532.50</td>\n",
       "    </tr>\n",
       "    <tr>\n",
       "      <th>EML</th>\n",
       "      <td>7185.00</td>\n",
       "    </tr>\n",
       "    <tr>\n",
       "      <th>SML</th>\n",
       "      <td>6031.08</td>\n",
       "    </tr>\n",
       "    <tr>\n",
       "      <th>(CANCELLED) MH</th>\n",
       "      <td>399.50</td>\n",
       "    </tr>\n",
       "    <tr>\n",
       "      <th>(CANCEL) MS</th>\n",
       "      <td>181.90</td>\n",
       "    </tr>\n",
       "    <tr>\n",
       "      <th>(CANECL) MS</th>\n",
       "      <td>129.05</td>\n",
       "    </tr>\n",
       "    <tr>\n",
       "      <th>(CANCEL) SML</th>\n",
       "      <td>83.11</td>\n",
       "    </tr>\n",
       "    <tr>\n",
       "      <th>(CANCEL) MH</th>\n",
       "      <td>0.00</td>\n",
       "    </tr>\n",
       "    <tr>\n",
       "      <th>(CANCEL)_ MH</th>\n",
       "      <td>0.00</td>\n",
       "    </tr>\n",
       "    <tr>\n",
       "      <th>(CANCELLED) MS</th>\n",
       "      <td>0.00</td>\n",
       "    </tr>\n",
       "    <tr>\n",
       "      <th>(Cancel) MS</th>\n",
       "      <td>0.00</td>\n",
       "    </tr>\n",
       "    <tr>\n",
       "      <th>(Cancel) NM</th>\n",
       "      <td>0.00</td>\n",
       "    </tr>\n",
       "    <tr>\n",
       "      <th>(NEVER CONFIRMED) NM</th>\n",
       "      <td>0.00</td>\n",
       "    </tr>\n",
       "  </tbody>\n",
       "</table>\n",
       "</div>"
      ],
      "text/plain": [
       "                       DEPOSIT\n",
       "VENDOR                        \n",
       "MH                    28655.55\n",
       "MS                    28463.39\n",
       "NM                     8532.50\n",
       "EML                    7185.00\n",
       "SML                    6031.08\n",
       "(CANCELLED) MH          399.50\n",
       "(CANCEL) MS             181.90\n",
       "(CANECL) MS             129.05\n",
       "(CANCEL) SML             83.11\n",
       "(CANCEL) MH               0.00\n",
       "(CANCEL)_ MH              0.00\n",
       "(CANCELLED) MS            0.00\n",
       "(Cancel) MS               0.00\n",
       "(Cancel) NM               0.00\n",
       "(NEVER CONFIRMED) NM      0.00"
      ]
     },
     "execution_count": 80,
     "metadata": {},
     "output_type": "execute_result"
    }
   ],
   "source": [
    "df_group_one = df[['VENDOR','DEPOSIT']]\n",
    "df_group_one = df_group_one.groupby(['VENDOR'],as_index=True).sum().sort_values('DEPOSIT',ascending=False)\n",
    "df_group_one"
   ]
  },
  {
   "cell_type": "code",
   "execution_count": 82,
   "metadata": {},
   "outputs": [
    {
     "data": {
      "text/plain": [
       "Text(0.5, 1.0, 'Histogram of Vendor Deposits')"
      ]
     },
     "execution_count": 82,
     "metadata": {},
     "output_type": "execute_result"
    },
    {
     "data": {
      "image/png": "[encoded data removed]",
      "text/plain": [
       "<Figure size 432x288 with 1 Axes>"
      ]
     },
     "metadata": {
      "needs_background": "light"
     },
     "output_type": "display_data"
    }
   ],
   "source": [
    "sns.distplot(df['DEPOSIT']).set_title('Histogram of Vendor Deposits')"
   ]
  },
  {
   "cell_type": "markdown",
   "metadata": {},
   "source": [
    "### Average cost of move for each gender"
   ]
  },
  {
   "cell_type": "code",
   "execution_count": 67,
   "metadata": {},
   "outputs": [
    {
     "data": {
      "text/html": [
       "<div>\n",
       "<style scoped>\n",
       "    .dataframe tbody tr th:only-of-type {\n",
       "        vertical-align: middle;\n",
       "    }\n",
       "\n",
       "    .dataframe tbody tr th {\n",
       "        vertical-align: top;\n",
       "    }\n",
       "\n",
       "    .dataframe thead th {\n",
       "        text-align: right;\n",
       "    }\n",
       "</style>\n",
       "<table border=\"1\" class=\"dataframe\">\n",
       "  <thead>\n",
       "    <tr style=\"text-align: right;\">\n",
       "      <th></th>\n",
       "      <th>DEPOSIT</th>\n",
       "    </tr>\n",
       "    <tr>\n",
       "      <th>GENDER</th>\n",
       "      <th></th>\n",
       "    </tr>\n",
       "  </thead>\n",
       "  <tbody>\n",
       "    <tr>\n",
       "      <th>F</th>\n",
       "      <td>217.569231</td>\n",
       "    </tr>\n",
       "    <tr>\n",
       "      <th>M</th>\n",
       "      <td>244.967632</td>\n",
       "    </tr>\n",
       "  </tbody>\n",
       "</table>\n",
       "</div>"
      ],
      "text/plain": [
       "           DEPOSIT\n",
       "GENDER            \n",
       "F       217.569231\n",
       "M       244.967632"
      ]
     },
     "execution_count": 67,
     "metadata": {},
     "output_type": "execute_result"
    }
   ],
   "source": [
    "gender_group = df[['GENDER','DEPOSIT']]\n",
    "gender_group = gender_group.groupby(['GENDER']).mean()\n",
    "gender_group"
   ]
  },
  {
   "cell_type": "markdown",
   "metadata": {},
   "source": [
    "### Number of completed moves for each gender"
   ]
  },
  {
   "cell_type": "code",
   "execution_count": 73,
   "metadata": {},
   "outputs": [
    {
     "data": {
      "image/png": "[encoded data removed]",
      "text/plain": [
       "<Figure size 432x288 with 1 Axes>"
      ]
     },
     "metadata": {},
     "output_type": "display_data"
    }
   ],
   "source": [
    "plot = gender.value_counts(normalize=True).plot.pie()"
   ]
  },
  {
   "cell_type": "code",
   "execution_count": 74,
   "metadata": {},
   "outputs": [
    {
     "data": {
      "text/plain": [
       "F    0.56196\n",
       "M    0.43804\n",
       "Name: GENDER, dtype: float64"
      ]
     },
     "execution_count": 74,
     "metadata": {},
     "output_type": "execute_result"
    }
   ],
   "source": [
    "gender.value_counts(normalize=True)"
   ]
  },
  {
   "cell_type": "code",
   "execution_count": 75,
   "metadata": {},
   "outputs": [],
   "source": [
    "nyc_zip_codes = {\n",
    "    \n",
    "    'Bronx':\n",
    "        {\n",
    "        'Central Bronx': [10453,10457,10460],\n",
    "        'Bronx Park and Fordham': [10458,10467,10468],\n",
    "        'High Bridge and Morrisania': [10451,10452,10456],\n",
    "        'Hunts Point and Mott Haven': [10454,10455,10459,10474],\n",
    "        'Kingsbridge and Riverdale': [10463,10471],\n",
    "        'Northeast Bronx': [10466,10469,10470,10475],\n",
    "        'Southeast Bronx': [10461,10462,10464,10465,10472,10473]\n",
    "        },\n",
    "    'Manhattan':\n",
    "    {\n",
    "    'Central Harlem': [10026,10027,10030,10037,10039],\n",
    "    'Chelsea and Clinton': [10001,10011,10018,10019,10020,10036],\n",
    "    'East Harlem': [10029,10035],\n",
    "    'Gramercy Park and Murray Hill': [10010,10016,10017,10022],\n",
    "    'Greenwich Village and Soho': [10012,10013,10014],\n",
    "    'Lower Manhattan': [10004,10005,10006,10007,10038,10280],\n",
    "    'Lower East Side': [10002,10003,10009],\n",
    "    'Upper East Side': [10021,10028,10044,10065,10075,10128],\n",
    "    'Upper West Side': [10023,10024,10025],\n",
    "    'Inwood and Washington Heights': [10031,10032,10033,10034,10040]\n",
    "    },\n",
    "    'Brooklyn':\n",
    "    {\n",
    "    'Central Brooklyn': [11212,11213,11216,11233,11238],\n",
    "    'Southwest Brooklyn': [11209,11214,11228],\n",
    "    'Borough Park': [11204,11218,11219,11230],\n",
    "    'Canarsie and Flatlands': [11234,11236,11239],\n",
    "    'Southern Brooklyn': [11223,11224,11229,11235],\n",
    "    'Northwest Brooklyn': [11201,11205,11215,11217,11231],\n",
    "    'Flatbush': [11203,11210,11225,11226],\n",
    "    'East New York and New Lots': [11207,11208],\n",
    "    'Greenpoint': [11211,11222],\n",
    "    'Sunset Park': [11220,11232],\n",
    "    'Bushwick and Williamsburg': [11206,11221,11237]\n",
    "    },\n",
    "    'Queens':\n",
    "    {\n",
    "    'Northeast Queens':[11361,11362,11363,11364],\n",
    "    'North Queens': [11354,11355,11356,11357,11358,11359,11360],\n",
    "    'Central Queens': [11365,11366,11367],\n",
    "    'Jamaica': [11412,11423,11432,11433,11434,11435,11436],\n",
    "    'Northwest Queens': [11101,11102,11103,11104,11105,11106],\n",
    "    'West Central Queens': [11374,11375,11379,11385],\n",
    "    'Rockaways': [11691,11692,11693,11694,11695,11697],\n",
    "    'Southeast Queens': [11004,11005,11411,11413,11422,11426,11427,11428,11429],\n",
    "    'Kew Gardens': [11415],\n",
    "    'Southwest Queens': [11414,11416,11417,11418,11419,11420,11421],\n",
    "    'West Queens': [11368,11369,11370,11372,11373,11377,11378]\n",
    "    },\n",
    "    'Staten Island': {\n",
    "    'Port Richmond': [10302,10303,10310],\n",
    "    'South Shore': [10306,10307,10308,10309,10312],\n",
    "    'Stapleton and St.George': [10301,10304,10305],\n",
    "    'Mid-Island': [10314]\n",
    "    }\n",
    "\n",
    "    }\n",
    "#this function returns the name of the input's borough\n",
    "def borough_lookup(zipcode):\n",
    "    for borough in nyc_zip_codes:\n",
    "        for place,zip_list in nyc_zip_codes[borough].items():\n",
    "            if zipcode in zip_list:\n",
    "                return borough\n",
    " \n",
    "#this function returns the name of the input zip code's neighborhood\n",
    "def neighborhood_lookup(zipcode):\n",
    "    for borough in nyc_zip_codes:\n",
    "        for place,zip_list in nyc_zip_codes[borough].items():\n",
    "            if zipcode in zip_list:\n",
    "                return place"
   ]
  },
  {
   "cell_type": "markdown",
   "metadata": {},
   "source": [
    "### Examine the relative frequency of the top 20 neighborhoods where orders (moves) came from "
   ]
  },
  {
   "cell_type": "code",
   "execution_count": 77,
   "metadata": {},
   "outputs": [
    {
     "data": {
      "text/plain": [
       "Chelsea and Clinton              0.084691\n",
       "Upper East Side                  0.078176\n",
       "Northwest Brooklyn               0.074919\n",
       "Northwest Queens                 0.065147\n",
       "Flatbush                         0.061889\n",
       "Central Brooklyn                 0.061889\n",
       "Gramercy Park and Murray Hill    0.058632\n",
       "Lower East Side                  0.048860\n",
       "Upper West Side                  0.048860\n",
       "Bushwick and Williamsburg        0.045603\n",
       "East Harlem                      0.042345\n",
       "Greenpoint                       0.035831\n",
       "Lower Manhattan                  0.029316\n",
       "Inwood and Washington Heights    0.029316\n",
       "Central Harlem                   0.022801\n",
       "West Central Queens              0.022801\n",
       "Greenwich Village and Soho       0.016287\n",
       "North Queens                     0.016287\n",
       "Kingsbridge and Riverdale        0.013029\n",
       "Jamaica                          0.013029\n",
       "dtype: float64"
      ]
     },
     "execution_count": 77,
     "metadata": {},
     "output_type": "execute_result"
    }
   ],
   "source": [
    "zippys = []\n",
    "zipsx = df['ZIPCODE']\n",
    "for zipcode in zipsx:\n",
    "    zippys.append(neighborhood_lookup(zipcode))\n",
    "zips = pd.Series(zippys)\n",
    "zips.value_counts(normalize=True).head(20)"
   ]
  },
  {
   "cell_type": "markdown",
   "metadata": {},
   "source": [
    "#### *Abbreviations in the 'VENDOR' column refer to vendor codes used by the company for unique vendors*\n",
    "#### *This dataset is from 347 customers from Jan. to July in 2018*"
   ]
  },
  {
   "cell_type": "code",
   "execution_count": null,
   "metadata": {},
   "outputs": [],
   "source": []
  }
 ],
 "metadata": {
  "kernelspec": {
   "display_name": "Python 3",
   "language": "python",
   "name": "python3"
  },
  "language_info": {
   "codemirror_mode": {
    "name": "ipython",
    "version": 3
   },
   "file_extension": ".py",
   "mimetype": "text/x-python",
   "name": "python",
   "nbconvert_exporter": "python",
   "pygments_lexer": "ipython3",
   "version": "3.7.6"
  }
 },
 "nbformat": 4,
 "nbformat_minor": 4
}
